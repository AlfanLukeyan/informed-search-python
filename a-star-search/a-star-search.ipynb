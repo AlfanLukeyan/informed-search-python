{
 "cells": [
  {
   "cell_type": "code",
   "execution_count": 21,
   "metadata": {},
   "outputs": [],
   "source": [
    "from collections import defaultdict\n",
    "import timeit\n",
    "import heapq"
   ]
  },
  {
   "cell_type": "code",
   "execution_count": 22,
   "metadata": {},
   "outputs": [],
   "source": [
    "# Graph class is with A star search algorithm function\n",
    "class Graph:\n",
    "  def __init__(self):\n",
    "    self.graph = defaultdict(list) # Create empty dictionary that stores lists\n",
    "    self.heuristic = {}\n",
    "\n",
    "  def add_edge(self, u_node, v_node, weight): # Add edge using weighted adjacency list\n",
    "    self.graph[u_node] += [(v_node, weight)]\n",
    "    self.graph[v_node] += [(u_node, weight)]\n",
    "\n",
    "  def add_heuristic(self, node, value): # Add heuristic function value to a node\n",
    "    self.heuristic[node] = value\n",
    "\n",
    "  def a_star(self, start_node, goal):\n",
    "    open_set = set([start_node]) # To store nodes to look next\n",
    "    closed_set = set() # To store nodes visited\n",
    "    heap_queue = [(0, start_node)]\n",
    "\n",
    "    g = {start_node: 0} # Store cumulative distance of a node\n",
    "    parent = {start_node: start_node} # Store parent of a node\n",
    "\n",
    "    while open_set:\n",
    "      current_node = heapq.heappop(heap_queue)[1] # Pop node with smallest f(x)\n",
    "\n",
    "      if current_node == goal:\n",
    "        path = []\n",
    "        distance = g[current_node]\n",
    "\n",
    "        while parent[current_node] != current_node: # Retrace path using parent dictionary\n",
    "          path.append(current_node)\n",
    "          current_node = parent[current_node]\n",
    "\n",
    "        path.append(start_node)\n",
    "        path.reverse()\n",
    "        return (path, distance)\n",
    "      \n",
    "      for (neighbour_node, weight) in self.graph[current_node]: # Iterate all neighbours of current node\n",
    "        if neighbour_node not in open_set and neighbour_node not in closed_set:\n",
    "          open_set.add(neighbour_node)\n",
    "          g[neighbour_node] = g[current_node] + weight # Set cumulative distance of neighbour node\n",
    "          parent[neighbour_node] = current_node        # Set parent of neighbour node to current node\n",
    "          f = self.heuristic[neighbour_node] + g[neighbour_node] # Calcualate f function\n",
    "          heapq.heappush(heap_queue, (f, neighbour_node)) # Push to heap queue\n",
    "        \n",
    "        elif g[neighbour_node] > g[current_node] + weight: # If neighbour has shorter distance through this path\n",
    "          g[neighbour_node] = g[current_node] + weight\n",
    "          parent[neighbour_node] = current_node\n",
    "          heapq.heappush(heap_queue, (self.heuristic[neighbour_node] + g[neighbour_node], neighbour_node))\n",
    "\n",
    "          if neighbour_node in closed_set: # Readd neighbour node to open set\n",
    "            closed_set.remove(neighbour_node)\n",
    "            open_set.add(neighbour_node)\n",
    "      \n",
    "      open_set.remove(current_node)\n",
    "      closed_set.add(current_node)\n"
   ]
  },
  {
   "cell_type": "code",
   "execution_count": 23,
   "metadata": {},
   "outputs": [],
   "source": [
    "# Initializing and adding edges to graph\n",
    "peta = Graph()\n",
    "\n",
    "peta.add_edge('Magetan',     'Ngawi',        weight=32)\n",
    "peta.add_edge('Magetan',     'Madiun',       weight=22)\n",
    "peta.add_edge('Magetan',     'Ponorogo',     weight=34)\n",
    "peta.add_edge('Ponorogo',    'Madiun',       weight=29)\n",
    "peta.add_edge('Madiun',      'Ngawi',        weight=30)\n",
    "peta.add_edge('Madiun',      'Nganjuk',      weight=48)\n",
    "peta.add_edge('Ngawi',       'Bojonegoro',   weight=44)\n",
    "peta.add_edge('Bojonegoro',  'Lamongan',     weight=42)\n",
    "peta.add_edge('Bojonegoro',  'Jombang',      weight=70)\n",
    "peta.add_edge('Bojonegoro',  'Nganjuk',      weight=33)\n",
    "peta.add_edge('Lamongan',    'Gresik',       weight=14)\n",
    "peta.add_edge('Jombang',     'Surabaya',     weight=72)\n",
    "peta.add_edge('Nganjuk',     'Jombang',      weight=40)\n",
    "peta.add_edge('Gresik',      'Surabaya',     weight=12)\n",
    "peta.add_edge('Surabaya',    'Bangkalan',    weight=44)\n",
    "peta.add_edge('Surabaya',    'Sidoarjo',     weight=25)\n",
    "peta.add_edge('Bangkalan',   'Sampang',      weight=52)\n",
    "peta.add_edge('Sampang',     'Pamekasan',    weight=31)\n",
    "peta.add_edge('Sidoarjo',    'Probolinggo',  weight=78)\n",
    "peta.add_edge('Pamekasan',   'Sumenep',      weight=54)\n",
    "peta.add_edge('Probolinggo', 'Situbondo',    weight=99)\n",
    "\n",
    "peta.add_heuristic('Magetan',     162)\n",
    "peta.add_heuristic('Surabaya',    0)\n",
    "peta.add_heuristic('Ngawi',       130)\n",
    "peta.add_heuristic('Ponorogo',    128)\n",
    "peta.add_heuristic('Madiun',      126)\n",
    "peta.add_heuristic('Bojonegoro',  60)\n",
    "peta.add_heuristic('Nganjuk',     70)\n",
    "peta.add_heuristic('Jombang',     36)\n",
    "peta.add_heuristic('Lamongan',    36)\n",
    "peta.add_heuristic('Gresik',      12)\n",
    "peta.add_heuristic('Sidoarjo',    22)\n",
    "peta.add_heuristic('Probolinggo', 70)\n",
    "peta.add_heuristic('Situbondo',   146)\n",
    "peta.add_heuristic('Bangkalan',   140)\n",
    "peta.add_heuristic('Sampang',     90)\n",
    "peta.add_heuristic('Pamekasan',   104)\n",
    "peta.add_heuristic('Sumenep',     150)"
   ]
  },
  {
   "cell_type": "code",
   "execution_count": 37,
   "metadata": {},
   "outputs": [
    {
     "name": "stdout",
     "output_type": "stream",
     "text": [
      "Kota yang dilintasi: ['Magetan', 'Ngawi', 'Bojonegoro', 'Lamongan', 'Gresik', 'Surabaya']\n",
      "Jarak lintasan     : 144\n",
      "Waktu algoritma    : 0.00005480\n"
     ]
    }
   ],
   "source": [
    "# Main program\n",
    "start_time = timeit.default_timer()\n",
    "(lintasan, jarak) = peta.a_star('Magetan', 'Surabaya')\n",
    "end_time = timeit.default_timer()\n",
    "\n",
    "print('Kota yang dilintasi:', lintasan)\n",
    "print('Jarak lintasan     :', jarak)\n",
    "print('Waktu algoritma    :', f\"{(end_time - start_time):.8f}\")"
   ]
  }
 ],
 "metadata": {
  "kernelspec": {
   "display_name": "Python 3",
   "language": "python",
   "name": "python3"
  },
  "language_info": {
   "codemirror_mode": {
    "name": "ipython",
    "version": 3
   },
   "file_extension": ".py",
   "mimetype": "text/x-python",
   "name": "python",
   "nbconvert_exporter": "python",
   "pygments_lexer": "ipython3",
   "version": "3.11.2"
  },
  "orig_nbformat": 4
 },
 "nbformat": 4,
 "nbformat_minor": 2
}
